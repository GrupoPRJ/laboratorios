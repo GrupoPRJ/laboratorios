{
 "cells": [
  {
   "cell_type": "code",
   "execution_count": 4,
   "metadata": {},
   "outputs": [],
   "source": [
    "from Bio import SeqIO\n",
    "from Bio.Blast import NCBIWWW\n",
    "from Bio.Blast import NCBIXML\n",
    "from Bio import ExPASy\n",
    "\n",
    "\n",
    "def get_prot_seq(id):\n",
    "    with ExPASy.get_sprot_raw(id) as handle:\n",
    "        record = SeqIO.read(handle, \"swiss\")\n",
    "        seq = record.seq\n",
    "    return seq\n",
    "\n",
    "def blast_prot(FILE, seq):\n",
    "    '''\n",
    "    VARIAVEIS:\n",
    "        FILE = Nome do ficheiro a dar com o resultado do Blast ( ex: \"FGB_blast.xml\")\n",
    "        seq - sequencia proteica query para executar o blast\n",
    "    RETURNS:\n",
    "        Devolve uma lista dos resultados do blast filtrados pelo e-value, com o nome do alinhamento, comprimento\n",
    "        do alinhamento e e-value\n",
    "    '''\n",
    "    result_handle = NCBIWWW.qblast('blastp', 'nr', seq)\n",
    "    with open(FILE, \"w\") as out_handle:\n",
    "        out_handle.write(result_handle.read())\n",
    "    result_handle.close()\n"
   ]
  },
  {
   "cell_type": "code",
   "execution_count": 6,
   "metadata": {},
   "outputs": [],
   "source": [
    "blast_prot('TCF7L2_blastprot.xml', get_prot_seq('Q9NQB0'))"
   ]
  }
 ],
 "metadata": {
  "kernelspec": {
   "display_name": "Python 3",
   "language": "python",
   "name": "python3"
  },
  "language_info": {
   "codemirror_mode": {
    "name": "ipython",
    "version": 3
   },
   "file_extension": ".py",
   "mimetype": "text/x-python",
   "name": "python",
   "nbconvert_exporter": "python",
   "pygments_lexer": "ipython3",
   "version": "3.10.7 (tags/v3.10.7:6cc6b13, Sep  5 2022, 14:08:36) [MSC v.1933 64 bit (AMD64)]"
  },
  "orig_nbformat": 4,
  "vscode": {
   "interpreter": {
    "hash": "68244b10fadec1b3e625e9157df0e88cca746a2e21e581f39bebc9f0b519388c"
   }
  }
 },
 "nbformat": 4,
 "nbformat_minor": 2
}
