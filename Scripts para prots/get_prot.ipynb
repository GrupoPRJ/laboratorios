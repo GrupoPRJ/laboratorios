{
 "cells": [
  {
   "cell_type": "code",
   "execution_count": 51,
   "metadata": {},
   "outputs": [
    {
     "name": "stdout",
     "output_type": "stream",
     "text": [
      "RecName: Full=Transcription factor 7-like 2; AltName: Full=HMG box transcription factor 4; AltName: Full=T-cell-specific transcription factor 4; Short=T-cell factor 4; Short=TCF-4; Short=hTCF-4;\n",
      "ID: Q9NQB0\n",
      "SEQUENCE: MPQLNGGGGDDLGANDELISFKDEGEQEEKSSENSSAERDLADVKSSLVNESETNQNSSSDSEAERRPPPRSESFRDKSRESLEEAAKRQDGGLFKGPPYPGYPFIMIPDLTSPYLPNGSLSPTARTLHFQSGSTHYSAYKTIEHQIAVQYLQMKWPLLDVQAGSLQSRQALKDARSPSPAHIVSNKVPVVQHPHHVHPLTPLITYSNEHFTPGNPPPHLPADVDPKTGIPRPPHPPDISPYYPLSPGTVGQIPHPLGWLVPQQGQPVYPITTGGFRHPYPTALTVNASMSRFPPHMVPPHHTLHTTGIPHPAIVTPTVKQESSQSDVGSLHSSKHQDSKKEEEKKKPHIKKPLNAFMLYMKEMRAKVVAECTLKESAAINQILGRRWHALSREEQAKYYELARKERQLHMQLYPGWSARDNYGKKKKRKRDKQPGETNEHSECFLNPCLSLPPITDLSAPKKCRARFGLDQQNNWCGPCRRKKKCVRYIQGEGSCLSPPSSDGSLLDSPPPSPNLLGSPPRDAKSQTEQTQPLSLSLKPDPLAHLSMMPPPPALLLAEATHKASALCPNGALDLPPAALQPAAPSSSIAQPSTSSLHSHSSLAGTQPQPLSLVTKSLE\n",
      "SEQUENCE LENGTH: 619bp\n",
      "TAXONOMY:['Eukaryota', 'Metazoa', 'Chordata', 'Craniata', 'Vertebrata', 'Euteleostomi', 'Mammalia', 'Eutheria', 'Euarchontoglires', 'Primates', 'Haplorrhini', 'Catarrhini', 'Hominidae', 'Homo']\n",
      "ORGANISM: Homo sapiens (Human)\n",
      "\n"
     ]
    }
   ],
   "source": [
    "from Bio import SeqIO\n",
    "from Bio import ExPASy\n",
    "\n",
    "id = input('Introduza o UniProt Accession Number: ')\n",
    "#id --> codigo UniProt da proteina\n",
    "\n",
    "with ExPASy.get_sprot_raw(id) as handle:\n",
    "    seq_record = SeqIO.read(handle, \"swiss\")\n",
    "\n",
    "print(seq_record.description)\n",
    "\n",
    "tam= len(seq_record.seq)\n",
    "seq= seq_record.seq\n",
    "tax= seq_record.annotations[\"taxonomy\"]\n",
    "org= seq_record.annotations[\"organism\"]\n",
    "gene = seq_record.annotations[\"gene_name\"]\n",
    "comment = seq_record.annotations[\"comment\"]\n",
    "\n",
    "print('ID: ' + id + '\\n' + 'SEQUENCE: ' + seq + '\\n' + 'SEQUENCE LENGTH: ' + str(tam) + 'aa' + '\\n' + 'TAXONOMY:' + str(tax) + '\\n' + 'ORGANISM: ' + org + '\\n')\n",
    "\n",
    "\n",
    "#devolve um output com uma série de informações sobre a proteina"
   ]
  },
  {
   "cell_type": "code",
   "execution_count": 20,
   "metadata": {},
   "outputs": [
    {
     "name": "stdout",
     "output_type": "stream",
     "text": [
      "Sequence: MPQLNGGGGDDLGANDELISFKDEGEQEEKSSENSSAERDLADVKSSLVNESETNQNSSSDSEAERRPPPRSESFRDKSRESLEEAAKRQDGGLFKGPPYPGYPFIMIPDLTSPYLPNGSLSPTARTLHFQSGSTHYSAYKTIEHQIAVQYLQMKWPLLDVQAGSLQSRQALKDARSPSPAHIVSNKVPVVQHPHHVHPLTPLITYSNEHFTPGNPPPHLPADVDPKTGIPRPPHPPDISPYYPLSPGTVGQIPHPLGWLVPQQGQPVYPITTGGFRHPYPTALTVNASMSRFPPHMVPPHHTLHTTGIPHPAIVTPTVKQESSQSDVGSLHSSKHQDSKKEEEKKKPHIKKPLNAFMLYMKEMRAKVVAECTLKESAAINQILGRRWHALSREEQAKYYELARKERQLHMQLYPGWSARDNYGKKKKRKRDKQPGETNEHSECFLNPCLSLPPITDLSAPKKCRARFGLDQQNNWCGPCRRKKKCVRYIQGEGSCLSPPSSDGSLLDSPPPSPNLLGSPPRDAKSQTEQTQPLSLSLKPDPLAHLSMMPPPPALLLAEATHKASALCPNGALDLPPAALQPAAPSSSIAQPSTSSLHSHSSLAGTQPQPLSLVTKSLE\n",
      "Length: 619 aa\n",
      "MOLECULE_TYPE : protein\n",
      "ACCESSIONS : ['Q9NQB0', 'B4DRJ8', 'B9X074', 'C6ZRJ8', 'C6ZRK0', 'E2GH14', 'E2GH19', 'E2GH20', 'E2GH24', 'E2GH25', 'E9PFH9', 'F8W742', 'F8W7T5', 'O00185', 'Q9NQB1', 'Q9NQB2', 'Q9NQB3', 'Q9NQB4', 'Q9NQB5', 'Q9NQB6', 'Q9NQB7', 'Q9ULC2']\n",
      "PROTEIN_EXISTENCE : 1\n",
      "DATE : 25-MAR-2003\n",
      "SEQUENCE_VERSION : 2\n",
      "DATE_LAST_SEQUENCE_UPDATE : 25-MAR-2003\n",
      "DATE_LAST_ANNOTATION_UPDATE : 14-DEC-2022\n",
      "ENTRY_VERSION : 217\n",
      "GENE_NAME : [{'Name': 'TCF7L2', 'Synonyms': ['TCF4']}]\n",
      "ORGANISM : Homo sapiens (Human)\n",
      "TAXONOMY : ['Eukaryota', 'Metazoa', 'Chordata', 'Craniata', 'Vertebrata', 'Euteleostomi', 'Mammalia', 'Eutheria', 'Euarchontoglires', 'Primates', 'Haplorrhini', 'Catarrhini', 'Hominidae', 'Homo']\n",
      "NCBI_TAXID : ['9606']\n",
      "COMMENT : FUNCTION: Participates in the Wnt signaling pathway and modulates MYC expression by binding to its promoter in a sequence-specific manner. Acts as repressor in the absence of CTNNB1, and as activator in its presence. Activates transcription from promoters with several copies of the Tcf motif 5'-CCTTTGATC-3' in the presence of CTNNB1. TLE1, TLE2, TLE3 and TLE4 repress transactivation mediated by TCF7L2/TCF4 and CTNNB1. Expression of dominant-negative mutants results in cell-cycle arrest in G1. Necessary for the maintenance of the epithelial stem-cell compartment of the small intestine. {ECO:0000269|PubMed:12408868, ECO:0000269|PubMed:12727872, ECO:0000269|PubMed:19443654, ECO:0000269|PubMed:22699938, ECO:0000269|PubMed:9727977}.\n",
      "SUBUNIT: Interacts with TGFB1I1 (By similarity). Interacts with CTNNB1 (via the armadillo repeat); forms stable transcription complex (PubMed:9065401, PubMed:9916915, PubMed:10080941, PubMed:19816403, PubMed:28829046, PubMed:29739711, PubMed:17052462). Interacts with EP300. Interacts with NLK. Interacts with CCDC85B (probably through the HMG box); prevents interaction with CTNNB1. Interacts with TNIK. Interacts with MAD2L2; prevents TCF7L2/TCF4 binding to promZIPK/DAPK3oters, negatively modulating its transcriptional activity. Interacts with ZIPK/DAPK3. Interacts with XIAP/BIRC4 and TLE3. Interacts with DDIT3/CHOP. The CTNNB1 and TCF7L2/TCF4 complex interacts with PML (isoform PML-4). Identified in a complex with CTNNB1 and FERMT2. Interacts with SPIN1 (PubMed:22258766, PubMed:24589551, PubMed:29061846). Interacts with C11orf84/SPINDOC in a SPIN1-dependent manner (PubMed:29061846). Interacts with DAZAP2; the interaction results in localization of DAZAP2 to the nucleus (PubMed:19304756). {ECO:0000250|UniProtKB:Q924A0, ECO:0000269|PubMed:10080941, ECO:0000269|PubMed:11266540, ECO:0000269|PubMed:12446687, ECO:0000269|PubMed:12556497, ECO:0000269|PubMed:12727872, ECO:0000269|PubMed:16434966, ECO:0000269|PubMed:16714285, ECO:0000269|PubMed:17052462, ECO:0000269|PubMed:17873903, ECO:0000269|PubMed:19304756, ECO:0000269|PubMed:19443654, ECO:0000269|PubMed:19816403, ECO:0000269|PubMed:21454679, ECO:0000269|PubMed:22155184, ECO:0000269|PubMed:22258766, ECO:0000269|PubMed:22304967, ECO:0000269|PubMed:22699938, ECO:0000269|PubMed:24589551, ECO:0000269|PubMed:28829046, ECO:0000269|PubMed:29061846, ECO:0000269|PubMed:29739711, ECO:0000269|PubMed:9065401, ECO:0000269|PubMed:9916915}.\n",
      "INTERACTION: Q9NQB0; P35222: CTNNB1; NbExp=27; IntAct=EBI-924724, EBI-491549; Q9NQB0; Q9UER7: DAXX; NbExp=5; IntAct=EBI-924724, EBI-77321; Q9NQB0; Q14526: HIC1; NbExp=6; IntAct=EBI-924724, EBI-2507362; Q9NQB0; Q13761: RUNX3; NbExp=14; IntAct=EBI-924724, EBI-925990; Q9NQB0; Q9UKE5: TNIK; NbExp=3; IntAct=EBI-924724, EBI-1051794; Q9NQB0; Q93009: USP7; NbExp=2; IntAct=EBI-924724, EBI-302474; Q9NQB0; P12956: XRCC6; NbExp=10; IntAct=EBI-924724, EBI-353208; Q9NQB0-10; Q9NP55: BPIFA1; NbExp=3; IntAct=EBI-11746252, EBI-953896; Q9NQB0-10; Q5BKX5-3: C19orf54; NbExp=3; IntAct=EBI-11746252, EBI-11976299; Q9NQB0-10; Q9BYD5: CNFN; NbExp=3; IntAct=EBI-11746252, EBI-12819063; Q9NQB0-10; O43186: CRX; NbExp=3; IntAct=EBI-11746252, EBI-748171; Q9NQB0-10; A8MQ03: CYSRT1; NbExp=3; IntAct=EBI-11746252, EBI-3867333; Q9NQB0-10; A1KXE4-2: FAM168B; NbExp=3; IntAct=EBI-11746252, EBI-12193763; Q9NQB0-10; Q08379: GOLGA2; NbExp=3; IntAct=EBI-11746252, EBI-618309; Q9NQB0-10; Q5TA45: INTS11; NbExp=3; IntAct=EBI-11746252, EBI-748258; Q9NQB0-10; P14923: JUP; NbExp=3; IntAct=EBI-11746252, EBI-702484; Q9NQB0-10; Q3LI72: KRTAP19-5; NbExp=3; IntAct=EBI-11746252, EBI-1048945; Q9NQB0-10; Q3SYF9: KRTAP19-7; NbExp=3; IntAct=EBI-11746252, EBI-10241353; Q9NQB0-10; Q3LI59: KRTAP21-2; NbExp=3; IntAct=EBI-11746252, EBI-18395721; Q9NQB0-10; Q3LI64: KRTAP6-1; NbExp=3; IntAct=EBI-11746252, EBI-12111050; Q9NQB0-10; Q3LI66: KRTAP6-2; NbExp=5; IntAct=EBI-11746252, EBI-11962084; Q9NQB0-10; Q8IUC3: KRTAP7-1; NbExp=3; IntAct=EBI-11746252, EBI-18394498; Q9NQB0-10; P35548: MSX2; NbExp=3; IntAct=EBI-11746252, EBI-6447480; Q9NQB0-10; Q9UF11-2: PLEKHB1; NbExp=3; IntAct=EBI-11746252, EBI-12832742; Q9NQB0-10; O43741: PRKAB2; NbExp=3; IntAct=EBI-11746252, EBI-1053424; Q9NQB0-10; P86480: PRR20D; NbExp=3; IntAct=EBI-11746252, EBI-12754095; Q9NQB0-10; Q53HV7-2: SMUG1; NbExp=3; IntAct=EBI-11746252, EBI-12275818; Q9NQB0-10; Q08117-2: TLE5; NbExp=3; IntAct=EBI-11746252, EBI-11741437; Q9NQB0-10; Q13077: TRAF1; NbExp=3; IntAct=EBI-11746252, EBI-359224; Q9NQB0-10; Q86WV8: TSC1; NbExp=3; IntAct=EBI-11746252, EBI-12806590; Q9NQB0-10; Q6NVU6: UFSP1; NbExp=3; IntAct=EBI-11746252, EBI-12068150;\n",
      "SUBCELLULAR LOCATION: Nucleus, PML body {ECO:0000269|PubMed:12727872, ECO:0000269|PubMed:22699938, ECO:0000269|PubMed:9916915}. Nucleus {ECO:0000269|PubMed:19304756}. Note=Diffuse pattern. Colocalizes with SUMO1 and PIAS4 in a subset of PML (promyelocytic leukemia) nuclear bodies.\n",
      "ALTERNATIVE PRODUCTS: Event=Alternative splicing; Named isoforms=17; Name=1; Synonyms=TCF-4M;   IsoId=Q9NQB0-1; Sequence=Displayed; Name=2;   IsoId=Q9NQB0-2; Sequence=VSP_006970, VSP_006972; Name=3;   IsoId=Q9NQB0-3; Sequence=VSP_006966; Name=4;   IsoId=Q9NQB0-4; Sequence=VSP_006964, VSP_006970, VSP_006972; Name=5;   IsoId=Q9NQB0-5; Sequence=VSP_006964; Name=6; Synonyms=TCF-4I;   IsoId=Q9NQB0-6; Sequence=VSP_006967; Name=7;   IsoId=Q9NQB0-7; Sequence=VSP_006964, VSP_006966; Name=8;   IsoId=Q9NQB0-8; Sequence=VSP_006962; Name=9; Synonyms=TCF-4G;   IsoId=Q9NQB0-9; Sequence=VSP_006965, VSP_006969; Name=10;   IsoId=Q9NQB0-10; Sequence=VSP_006962, VSP_006963, VSP_006968,                             VSP_006971; Name=11;   IsoId=Q9NQB0-11; Sequence=VSP_006962, VSP_045821, VSP_006965,                             VSP_006969; Name=12;   IsoId=Q9NQB0-12; Sequence=VSP_006962, VSP_045822; Name=13; Synonyms=TCF-4J;   IsoId=Q9NQB0-13; Sequence=VSP_006962, VSP_006964, VSP_006966; Name=14; Synonyms=TCF-4B, short;   IsoId=Q9NQB0-14; Sequence=VSP_006962, VSP_006965, VSP_006969; Name=15; Synonyms=TCF-4A;   IsoId=Q9NQB0-15; Sequence=VSP_006962, VSP_053750, VSP_006965,                             VSP_006969; Name=16; Synonyms=TCF-4K;   IsoId=Q9NQB0-16; Sequence=VSP_006962, VSP_053750, VSP_006964; Name=17; Synonyms=TCF-4X2;   IsoId=Q9NQB0-17; Sequence=VSP_053748, VSP_053749;\n",
      "TISSUE SPECIFICITY: Detected in epithelium from small intestine, with the highest expression at the top of the crypts and a gradient of expression from crypt to villus. Detected in colon epithelium and colon cancer, and in epithelium from mammary gland and carcinomas derived therefrom. {ECO:0000269|PubMed:9916915}.\n",
      "DEVELOPMENTAL STAGE: Highly expressed in crypt regions and barely detectable in villi in epithelium from fetal small intestine at week 16. At week 22 expression in villi had increased strongly.\n",
      "DOMAIN: The promoter-specific activation domain interacts with the transcriptional coactivator EP300.\n",
      "PTM: In vitro, phosphorylated by TNIK. {ECO:0000269|PubMed:12556497}.\n",
      "PTM: Phosphorylated at Thr-201 and/or Thr-212 by NLK. Phosphorylation by NLK at these sites inhibits DNA-binding by TCF7L2/TCF4, thereby preventing transcriptional activation of target genes of the canonical Wnt/beta-catenin signaling pathway. {ECO:0000269|PubMed:12556497}.\n",
      "PTM: Polysumoylated. Sumoylation is enhanced by PIAS family members and desumoylation is enhanced by SENP2. Sumoylation/desumoylation regulates TCF7L2/TCF4 transcription activity in the Wnt/beta-catenin signaling pathway without altering interaction with CTNNB1 nor binding to DNA. {ECO:0000269|PubMed:12727872}.\n",
      "DISEASE: Note=Constitutive activation and subsequent transactivation of target genes may lead to the maintenance of stem-cell characteristics (cycling and longevity) in cells that should normally undergo terminal differentiation and constitute the primary transforming event in colorectal cancer (CRC).\n",
      "DISEASE: Diabetes mellitus, non-insulin-dependent (NIDDM) [MIM:125853]: A multifactorial disorder of glucose homeostasis caused by a lack of sensitivity to the body's own insulin. Affected individuals usually have an obese body habitus and manifestations of a metabolic syndrome characterized by diabetes, insulin resistance, hypertension and hypertriglyceridemia. The disease results in long-term complications that affect the eyes, kidneys, nerves, and blood vessels. {ECO:0000269|PubMed:16415884, ECO:0000269|PubMed:24390345}. Note=Disease susceptibility is associated with variants affecting the gene represented in this entry.\n",
      "MISCELLANEOUS: [Isoform 12]: Low expression in pancreas and colon. {ECO:0000305}.\n",
      "MISCELLANEOUS: [Isoform 13]: Common splicing form, lowest expression in skeletal muscle. {ECO:0000305}.\n",
      "MISCELLANEOUS: [Isoform 14]: High transcriptional activity. Major isoform in liver. {ECO:0000305}.\n",
      "SIMILARITY: Belongs to the TCF/LEF family. {ECO:0000305}.\n",
      "REFERENCES : [Reference(title='Constitutive transcriptional activation by a beta-catenin-Tcf complex in APC-/- colon carcinoma.', ...), Reference(title='The human T cell transcription factor-4 gene: structure, extensive characterization of alternative splicings, and mutational analysis in colorectal cancer cell lines.', ...), Reference(title='Tissue-specific alternative splicing of TCF7L2.', ...), Reference(title='Identification of T-cell factor-4 isoforms that contribute to the malignant phenotype of hepatocellular carcinoma cells.', ...), Reference(title='ALEX1, a putative tumor suppressor, is regulated by CREB-dependent Wnt signaling, and is silenced by promoter methylation in human colorectal cancer.', ...), Reference(title='Complete sequencing and characterization of 21,243 full-length human cDNAs.', ...), Reference(title='The DNA sequence and comparative analysis of human chromosome 10.', ...), Reference(title='', ...), Reference(title='The status, quality, and expansion of the NIH full-length cDNA project: the Mammalian Gene Collection (MGC).', ...), Reference(title='Human TCF-4 splice form B.', ...), Reference(title='Identification of c-MYC as a target of the APC pathway.', ...), Reference(title='Restricted high level expression of Tcf-4 protein in intestinal and mammary gland epithelium.', ...), Reference(title='Identification of Tcf4 residues involved in high-affinity beta-catenin binding.', ...), Reference(title='All Tcf HMG box transcription factors interact with Groucho-related co-repressors.', ...), Reference(title='The beta-catenin/TCF-4 complex imposes a crypt progenitor phenotype on colorectal cancer cells.', ...), Reference(title='Sumoylation is involved in beta-catenin-dependent activation of Tcf-4.', ...), Reference(title='Identification of a promoter-specific transcriptional activation domain at the C-terminus of the Wnt effector protein T-cell factor 4.', ...), Reference(title='Regulation of lymphoid enhancer factor 1/T-cell factor by mitogen-activated protein kinase-related Nemo-like kinase-dependent phosphorylation in Wnt/beta-catenin signaling.', ...), Reference(title='NARF, an nemo-like kinase (NLK)-associated ring finger protein regulates the ubiquitylation and degradation of T cell factor/lymphoid enhancer factor (TCF/LEF).', ...), Reference(title='Variant of transcription factor 7-like 2 (TCF7L2) gene confers risk of type 2 diabetes.', ...), Reference(title='The C/EBP homologous protein CHOP (GADD153) is an inhibitor of Wnt/TCF signals.', ...), Reference(title='Coiled-coil domain containing 85B suppresses the beta-catenin activity in a p53-dependent manner.', ...), Reference(title='The kinase TNIK is an essential activator of Wnt target genes.', ...), Reference(title='MAD2B, a novel TCF4-binding protein, modulates TCF4-mediated epithelial-mesenchymal transdifferentiation.', ...), Reference(title='Dazap2 modulates transcription driven by the Wnt effector TCF-4.', ...), Reference(title='Zipper-interacting protein kinase (ZIPK) modulates canonical Wnt/beta-catenin signaling through interaction with Nemo-like kinase and T-cell factor 4 (NLK/TCF4).', ...), Reference(title='Kindlin 2 forms a transcriptional complex with beta-catenin and TCF4 to enhance Wnt signalling.', ...), Reference(title='Beta-catenin inhibits promyelocytic leukemia protein tumor suppressor function in colorectal cancer cells.', ...), Reference(title='SPINDLIN1 promotes cancer cell proliferation through activation of WNT/TCF-4 signaling.', ...), Reference(title='XIAP monoubiquitylates Groucho/TLE to promote canonical Wnt signaling.', ...), Reference(title='Molecular basis underlying histone H3 lysine-arginine methylation pattern readout by Spin/Ssty repeats of Spindlin1.', ...), Reference(title='An enzyme assisted RP-RPLC approach for in-depth analysis of human liver phosphoproteome.', ...), Reference(title='Sequence variants in SLC16A11 are a common risk factor for type 2 diabetes in Mexico.', ...), Reference(title='Twa1/Gid8 is a beta-catenin nuclear retention factor in Wnt signaling and colorectal tumorigenesis.', ...), Reference(title='A transcriptional coregulator, SPIN-DOC, attenuates the coactivator activity of Spindlin1.', ...), Reference(title='Site-specific mapping of the human SUMO proteome reveals co-modification with phosphorylation.', ...), Reference(title='SOX30 Inhibits Tumor Metastasis through Attenuating Wnt-Signaling via Transcriptional and Posttranslational Regulation of beta-Catenin in Lung Cancer.', ...), Reference(title='Tcf4 can specifically recognize beta-catenin using alternative conformations.', ...), Reference(title='Structure of a human Tcf4-beta-catenin complex.', ...), Reference(title='Crystal structure of a beta-catenin/BCL9/Tcf4 complex.', ...), Reference(title='The consensus coding sequences of human breast and colorectal cancers.', ...)]\n",
      "KEYWORDS : ['3D-structure', 'Activator', 'Alternative splicing', 'Diabetes mellitus', 'DNA-binding', 'Isopeptide bond', 'Nucleus', 'Phosphoprotein', 'Reference proteome', 'Repressor', 'Transcription', 'Transcription regulation', 'Ubl conjugation', 'Wnt signaling pathway']\n"
     ]
    },
    {
     "data": {
      "text/plain": [
       "Seq('ID:Q9NQB0|SEQUENCE:MPQLNGGGGDDLGANDELISFKDEGEQEEKSSENS...an)')"
      ]
     },
     "execution_count": 20,
     "metadata": {},
     "output_type": "execute_result"
    }
   ],
   "source": []
  }
 ],
 "metadata": {
  "kernelspec": {
   "display_name": "Python 3",
   "language": "python",
   "name": "python3"
  },
  "language_info": {
   "codemirror_mode": {
    "name": "ipython",
    "version": 3
   },
   "file_extension": ".py",
   "mimetype": "text/x-python",
   "name": "python",
   "nbconvert_exporter": "python",
   "pygments_lexer": "ipython3",
   "version": "3.10.7"
  },
  "orig_nbformat": 4,
  "vscode": {
   "interpreter": {
    "hash": "68244b10fadec1b3e625e9157df0e88cca746a2e21e581f39bebc9f0b519388c"
   }
  }
 },
 "nbformat": 4,
 "nbformat_minor": 2
}
