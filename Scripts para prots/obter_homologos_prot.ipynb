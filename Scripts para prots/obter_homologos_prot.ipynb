{
 "cells": [
  {
   "cell_type": "code",
   "execution_count": 1,
   "metadata": {},
   "outputs": [],
   "source": [
    "from Bio import SeqIO\n",
    "from Bio.Blast import NCBIWWW\n",
    "from Bio.Blast import NCBIXML\n",
    "\n",
    "\n",
    "def obter_homologos(file, E_VALUE_THRESH):\n",
    "    '''\n",
    "    VARIAVEIS:\n",
    "        file = Nome do ficheiro a dar com o resultado do Blast ( ex: \"FGB_blast.xml\")\n",
    "        E_VALUE_THRESH = Recebe valor None ou qualquer numero inteiro, corresponde ao valor de e-value maximo\n",
    "        aceitável para tratamento do output do blast.\n",
    "    RETURNS:\n",
    "        Devolve um ficheiro com lista dos resultados do blast filtrados pelo e-value, com o nome do alinhamento, comprimento\n",
    "        do alinhamento e e-value\n",
    "    '''\n",
    "    result_handle = open(file)\n",
    "    blast_record = NCBIXML.read(result_handle)\n",
    "    FILE = str('SeqsHomologas_' + str(file) + '.fasta')\n",
    "    ficheiro_output = open(FILE, 'w+')\n",
    "    if E_VALUE_THRESH == None:\n",
    "        E_VALUE_THRESH = 0.05\n",
    "    for alignment in blast_record.alignments:\n",
    "        for hsp in range(len(alignment.hsps)):\n",
    "            if alignment.hsps[hsp].expect < E_VALUE_THRESH:\n",
    "                if hsp != 0:\n",
    "                    pass\n",
    "                else:\n",
    "                    ficheiro_output.write('>' + alignment.title + '\\n' + alignment.hsps[hsp].sbjct + '\\n')\n",
    "    result_handle.close()"
   ]
  },
  {
   "cell_type": "code",
   "execution_count": 2,
   "metadata": {},
   "outputs": [],
   "source": [
    "obter_homologos('TCF7L2_blastprot.xml', E_VALUE_THRESH=0.05)"
   ]
  }
 ],
 "metadata": {
  "kernelspec": {
   "display_name": "Python 3",
   "language": "python",
   "name": "python3"
  },
  "language_info": {
   "codemirror_mode": {
    "name": "ipython",
    "version": 3
   },
   "file_extension": ".py",
   "mimetype": "text/x-python",
   "name": "python",
   "nbconvert_exporter": "python",
   "pygments_lexer": "ipython3",
   "version": "3.10.7"
  },
  "orig_nbformat": 4,
  "vscode": {
   "interpreter": {
    "hash": "68244b10fadec1b3e625e9157df0e88cca746a2e21e581f39bebc9f0b519388c"
   }
  }
 },
 "nbformat": 4,
 "nbformat_minor": 2
}
