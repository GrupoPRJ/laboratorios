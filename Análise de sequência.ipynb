{
 "cells": [
  {
   "attachments": {},
   "cell_type": "markdown",
   "metadata": {},
   "source": [
    "### **TCF7L2** ###"
   ]
  },
  {
   "cell_type": "code",
   "execution_count": 5,
   "metadata": {},
   "outputs": [],
   "source": [
    "from Bio import Entrez\n",
    "Entrez.email = 'pg49846@alunos.uminho.pt'\n",
    "from Bio import SeqIO\n",
    "from Bio.Blast import NCBIWWW\n",
    "from Bio.Blast import NCBIXML\n",
    "from Bio import SearchIO\n",
    "import re"
   ]
  },
  {
   "attachments": {},
   "cell_type": "markdown",
   "metadata": {},
   "source": [
    "#### Criação de ficheiros genbank e fasta ####"
   ]
  },
  {
   "cell_type": "code",
   "execution_count": 30,
   "metadata": {},
   "outputs": [
    {
     "data": {
      "text/plain": [
       "1"
      ]
     },
     "execution_count": 30,
     "metadata": {},
     "output_type": "execute_result"
    }
   ],
   "source": [
    "#para criar o handle e record em formato.gb\n",
    "\n",
    "handle = Entrez.efetch(db=\"nucleotide\", id='NG_012631', rettype=\"gb\", retmode=\"text\")\n",
    "record = SeqIO.read(handle, 'gb')\n",
    "\n",
    "# para criar os ficheiros genbank e fasta\n",
    "SeqIO.write(record, 'TCF7L2_nucleotide.gb', 'gb')        #devolve um ficheiro no formato .genbank (nucleotidos)\n",
    "SeqIO.write(record, 'TCF7L2_nucleotide.fasta', 'fasta')  #devolve um ficheiro no formato .fasta (nucleotidos)"
   ]
  },
  {
   "attachments": {},
   "cell_type": "markdown",
   "metadata": {},
   "source": [
    "#### Análise da sequência ####"
   ]
  },
  {
   "cell_type": "code",
   "execution_count": 31,
   "metadata": {},
   "outputs": [
    {
     "name": "stdout",
     "output_type": "stream",
     "text": [
      "**ANNOTATIONS**\n",
      "Sequence ID: NG_012631.1\n",
      "Description: Homo sapiens transcription factor 7 like 2 (TCF7L2), RefSeqGene on chromosome 10\n",
      "Source: Homo sapiens (human)\n",
      "Sequence length: 224429 bp\n",
      "Sequence: ATGCAGACTTGGCTTCAGGCAATAAAACGTCATAGACGTATAACTGTAGCGAGTGAAATTTCTAGGGAGCAAATTAGGCTGAAAACATCTTCTAGAGACA...\n",
      "33 features\n",
      "\n",
      "Feature count: {'source': 1, 'gene': 3, 'mRNA': 1, 'exon': 15, 'CDS': 1, 'misc_feature': 11, 'ncRNA': 1} \n",
      "\n",
      "**Feature GENE**\n",
      "Gene: ['TCF7L2']\n",
      "Refs: ['GeneID:6934', 'HGNC:HGNC:11641', 'MIM:602228']\n",
      "Location: [4997:222429](+)\n",
      "\n",
      "**Feature CDS**\n",
      "Product: ['transcription factor 7-like 2 isoform 17']\n",
      "Protein ID: ['NP_001354872.1']\n",
      "Location: join{[5507:5696](+), [5957:6024](+), [6233:6358](+), [19306:19375](+), [94775:94877](+), [195934:196067](+), [198673:198776](+), [200761:200848](+), [205748:205874](+), [206475:206635](+), [207083:207191](+), [212771:212820](+), [213417:213468](+), [214670:214743](+), [220305:220723](+)}\n",
      "Translated sequence: MPQLNGGGGDDLGANDELISFKDEGEQEEKSSENSSAERDLADVKSSLVNESETNQNSSSDSEAERRPPPRSESFRDKSRESLEEAAKRQDGGLFKGPPY ...\n",
      "\n",
      "**Feature GENE**\n",
      "Gene: ['RPS15AP30']\n",
      "Refs: ['GeneID:100271607', 'HGNC:HGNC:35495']\n",
      "Location: [42232:42615](+)\n",
      "\n",
      "**Feature GENE**\n",
      "Gene: ['SNORA87']\n",
      "Refs: ['GeneID:106635520', 'HGNC:HGNC:50391']\n",
      "Location: [100105:100327](+)\n",
      "\n",
      "\n",
      "**COMMENTS**\n",
      "REVIEWED REFSEQ: This record has been curated by NCBI staff. The\n",
      "reference sequence was derived from AL158212.15, AL445486.10,\n",
      "AL135792.10 and AL451084.19.\n",
      "This sequence is a reference standard in the RefSeqGene project.\n",
      "Summary: This gene encodes a high mobility group (HMG)\n",
      "box-containing transcription factor that plays a key role in the\n",
      "Wnt signaling pathway. The protein has been implicated in blood\n",
      "glucose homeostasis. Genetic variants of this gene are associated\n",
      "with increased risk of type 2 diabetes. Several transcript variants\n",
      "encoding multiple different isoforms have been found for this\n",
      "gene.[provided by RefSeq, Oct 2010].\n",
      "\n"
     ]
    }
   ],
   "source": [
    "print(f'''**ANNOTATIONS**\n",
    "Sequence ID: {record.id}\n",
    "Description: {record.description}\n",
    "Source: {record.annotations['source']}\n",
    "Sequence length: {len(record.seq)} bp\n",
    "Sequence: {record.seq[0:100] + '...'}\n",
    "{len(record.features)} features\n",
    "''')\n",
    "\n",
    "feat_types={}\n",
    "for feat in record.features:\n",
    "    feat_types[feat.type] = feat_types.get(feat.type, 0) + 1\n",
    "print('Feature count:', feat_types,'\\n')\n",
    "\n",
    "for i in record.features:\n",
    "    if i.type == 'gene':\n",
    "        print('**Feature GENE**')\n",
    "        print('Gene:', i.qualifiers['gene'])\n",
    "        print('Refs:', i.qualifiers['db_xref'])\n",
    "        print('Location:', i.location)\n",
    "        print()\n",
    "    if i.type == 'CDS':\n",
    "        print('**Feature CDS**')\n",
    "        print('Product:', i.qualifiers['product'])\n",
    "        print('Protein ID:', i.qualifiers['protein_id'])\n",
    "        print('Location:', i.location)\n",
    "        print('Translated sequence:', i.qualifiers['translation'][0][0:100], '...')\n",
    "        print()\n",
    "\n",
    "print(f'''\\n**COMMENTS**\n",
    "{record.annotations['comment']}\n",
    "''')"
   ]
  },
  {
   "attachments": {},
   "cell_type": "markdown",
   "metadata": {},
   "source": [
    "### Criação de ficheiros genbank e fasta - proteina ###"
   ]
  },
  {
   "cell_type": "code",
   "execution_count": 6,
   "metadata": {},
   "outputs": [
    {
     "data": {
      "text/plain": [
       "1"
      ]
     },
     "execution_count": 6,
     "metadata": {},
     "output_type": "execute_result"
    }
   ],
   "source": [
    "#para criar o handle e record em formato.gb\n",
    "Entrez.email = 'pg49846@alunos.uminho.pt'\n",
    "handle = Entrez.efetch(db=\"protein\", id='NP_001354872', rettype=\"gb\", retmode=\"text\")\n",
    "record = SeqIO.read(handle, 'gb')\n",
    "\n",
    "# para criar os ficheiros genbank e fasta\n",
    "SeqIO.write(record, 'TCF7L2_prot.gb', 'gb')        #devolve um ficheiro no formato .genbank (aminoacidos)\n",
    "SeqIO.write(record, 'TCF7L2_prot.fasta', 'fasta')  #devolve um ficheiro no formato .fasta (aminoacidos)"
   ]
  }
 ],
 "metadata": {
  "kernelspec": {
   "display_name": "Python 3",
   "language": "python",
   "name": "python3"
  },
  "language_info": {
   "codemirror_mode": {
    "name": "ipython",
    "version": 3
   },
   "file_extension": ".py",
   "mimetype": "text/x-python",
   "name": "python",
   "nbconvert_exporter": "python",
   "pygments_lexer": "ipython3",
   "version": "3.10.7"
  },
  "orig_nbformat": 4,
  "vscode": {
   "interpreter": {
    "hash": "68244b10fadec1b3e625e9157df0e88cca746a2e21e581f39bebc9f0b519388c"
   }
  }
 },
 "nbformat": 4,
 "nbformat_minor": 2
}
