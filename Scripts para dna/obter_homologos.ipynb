{
 "cells": [
  {
   "cell_type": "code",
   "execution_count": 2,
   "metadata": {},
   "outputs": [],
   "source": [
    "from Bio.Blast import NCBIXML\n",
    "\n",
    "def obter_homologos(file, E_VALUE_THRESH):\n",
    "    #file --> nome do ficheiro .xml resultante da função blast_DNA(), onde estão contidos os resultados do blast. Ex. 'TCF7L2_blastn.xml'\n",
    "    #E_VALUE_THRESH --> valor máximo para o e-value\n",
    "    \n",
    "    result_handle = open(file)\n",
    "    blast_record = NCBIXML.read(result_handle)\n",
    "    FILE = str('SeqsHomologas_' + str(file) + '.fasta')\n",
    "    ficheiro_output = open(FILE, 'w+')\n",
    "    if E_VALUE_THRESH == None:\n",
    "        E_VALUE_THRESH = 0.05    #Estabelece o E_VALUE_TRESH default para um valor de 0.05\n",
    "    for alignment in blast_record.alignments:\n",
    "        for hsp in range(len(alignment.hsps)):\n",
    "            if alignment.hsps[hsp].expect < E_VALUE_THRESH:\n",
    "                if hsp != 0:\n",
    "                    pass\n",
    "                else:\n",
    "                    ficheiro_output.write('12345>'+alignment.title+'\\n'+alignment.hsps[hsp].sbjct+'\\n')\n",
    "    result_handle.close()\n",
    "\n",
    "#Devolve uma lista dos resultados do blast filtrados pelo e-value, com o nome do alinhamento, comprimento do alinhamento e e-value"
   ]
  }
 ],
 "metadata": {
  "kernelspec": {
   "display_name": "Python 3",
   "language": "python",
   "name": "python3"
  },
  "language_info": {
   "codemirror_mode": {
    "name": "ipython",
    "version": 3
   },
   "file_extension": ".py",
   "mimetype": "text/x-python",
   "name": "python",
   "nbconvert_exporter": "python",
   "pygments_lexer": "ipython3",
   "version": "3.10.7"
  },
  "orig_nbformat": 4,
  "vscode": {
   "interpreter": {
    "hash": "68244b10fadec1b3e625e9157df0e88cca746a2e21e581f39bebc9f0b519388c"
   }
  }
 },
 "nbformat": 4,
 "nbformat_minor": 2
}
