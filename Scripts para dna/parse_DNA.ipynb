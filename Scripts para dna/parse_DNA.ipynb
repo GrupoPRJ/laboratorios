{
 "cells": [
  {
   "cell_type": "code",
   "execution_count": 1,
   "metadata": {},
   "outputs": [],
   "source": [
    "from Bio import Entrez\n",
    "from Bio import SeqIO\n",
    "from Bio import SearchIO\n",
    "from Bio.Blast import NCBIXML\n",
    "from Bio.Blast import NCBIWWW\n",
    "\n",
    "def parse_dna(file,  E_VALUE_THRESH):\n",
    "    '''\n",
    "    VARIAVEIS:\n",
    "        file = ficheiro xml contendo os resultados de um blast\n",
    "    RETURNS:\n",
    "        Imprime na consola informações relativas a esse blast\n",
    "    '''\n",
    "    result_handle = open(file)\n",
    "    from Bio.Blast import NCBIXML\n",
    "    blast_record = NCBIXML.read(result_handle)\n",
    "    if E_VALUE_THRESH == None:\n",
    "        E_VALUE_THRESH = 0.05\n",
    "    for alignment in blast_record.alignments:\n",
    "        for hsp in alignment.hsps:\n",
    "            if hsp.expect < E_VALUE_THRESH:\n",
    "                print(\"****Alignment****\")\n",
    "                print(\"sequence:\", alignment.title)\n",
    "                print(\"length:\", alignment.length)\n",
    "                print(\"e value:\", hsp.expect)\n",
    "                print(hsp.query[0:75] + \"...\")\n",
    "                print(hsp.match[0:75] + \"...\")\n",
    "                print(hsp.sbjct[0:75] + \"...\")\n",
    "    from Bio import SearchIO\n",
    "    blast_qresult = SearchIO.read(file, \"blast-xml\")\n",
    "    print(blast_qresult)\n",
    "    result_handle.close()\n"
   ]
  }
 ],
 "metadata": {
  "kernelspec": {
   "display_name": "Python 3",
   "language": "python",
   "name": "python3"
  },
  "language_info": {
   "codemirror_mode": {
    "name": "ipython",
    "version": 3
   },
   "file_extension": ".py",
   "mimetype": "text/x-python",
   "name": "python",
   "nbconvert_exporter": "python",
   "pygments_lexer": "ipython3",
   "version": "3.10.7"
  },
  "orig_nbformat": 4,
  "vscode": {
   "interpreter": {
    "hash": "68244b10fadec1b3e625e9157df0e88cca746a2e21e581f39bebc9f0b519388c"
   }
  }
 },
 "nbformat": 4,
 "nbformat_minor": 2
}
