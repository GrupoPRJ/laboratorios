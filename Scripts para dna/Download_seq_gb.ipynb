{
 "cells": [
  {
   "cell_type": "code",
   "execution_count": 14,
   "metadata": {},
   "outputs": [
    {
     "ename": "ValueError",
     "evalue": "No records found in handle",
     "output_type": "error",
     "traceback": [
      "\u001b[1;31m---------------------------------------------------------------------------\u001b[0m",
      "\u001b[1;31mValueError\u001b[0m                                Traceback (most recent call last)",
      "Cell \u001b[1;32mIn[14], line 16\u001b[0m\n\u001b[0;32m     13\u001b[0m handle \u001b[39m=\u001b[39m Entrez\u001b[39m.\u001b[39mefetch(db\u001b[39m=\u001b[39m\u001b[39m\"\u001b[39m\u001b[39mnucleotide\u001b[39m\u001b[39m\"\u001b[39m, \u001b[39mid\u001b[39m\u001b[39m=\u001b[39maccession_number, rettype\u001b[39m=\u001b[39m\u001b[39m\"\u001b[39m\u001b[39mgb\u001b[39m\u001b[39m\"\u001b[39m, retmode\u001b[39m=\u001b[39m\u001b[39m\"\u001b[39m\u001b[39mtext\u001b[39m\u001b[39m\"\u001b[39m)\n\u001b[0;32m     15\u001b[0m \u001b[39m# para criar o ficheiro\u001b[39;00m\n\u001b[1;32m---> 16\u001b[0m record \u001b[39m=\u001b[39m SeqIO\u001b[39m.\u001b[39;49mread(handle, \u001b[39m'\u001b[39;49m\u001b[39mgb\u001b[39;49m\u001b[39m'\u001b[39;49m)\n\u001b[0;32m     17\u001b[0m SeqIO\u001b[39m.\u001b[39mwrite(record, filename, \u001b[39m'\u001b[39m\u001b[39mgb\u001b[39m\u001b[39m'\u001b[39m)\n",
      "File \u001b[1;32mc:\\Users\\Paulo Seixal\\AppData\\Local\\Programs\\Python\\Python310\\lib\\site-packages\\Bio\\SeqIO\\__init__.py:656\u001b[0m, in \u001b[0;36mread\u001b[1;34m(handle, format, alphabet)\u001b[0m\n\u001b[0;32m    654\u001b[0m     record \u001b[39m=\u001b[39m \u001b[39mnext\u001b[39m(iterator)\n\u001b[0;32m    655\u001b[0m \u001b[39mexcept\u001b[39;00m \u001b[39mStopIteration\u001b[39;00m:\n\u001b[1;32m--> 656\u001b[0m     \u001b[39mraise\u001b[39;00m \u001b[39mValueError\u001b[39;00m(\u001b[39m\"\u001b[39m\u001b[39mNo records found in handle\u001b[39m\u001b[39m\"\u001b[39m) \u001b[39mfrom\u001b[39;00m \u001b[39mNone\u001b[39m\n\u001b[0;32m    657\u001b[0m \u001b[39mtry\u001b[39;00m:\n\u001b[0;32m    658\u001b[0m     \u001b[39mnext\u001b[39m(iterator)\n",
      "\u001b[1;31mValueError\u001b[0m: No records found in handle"
     ]
    }
   ],
   "source": [
    "#Script para download de sequencias em formato genbank\n",
    "\n",
    "email = input('Introduza o email: ')\n",
    "accession_number = input('Introduza o accesion number: ')   #\"CR536574\"\n",
    "filename = input('Introduza o nome para o ficheiro de saída: ')   #TCF7L2.gb\n",
    "\n",
    "\n",
    "from Bio import Entrez\n",
    "from Bio import SeqIO\n",
    "\n",
    "#para criar o handle\n",
    "Entrez.email = email\n",
    "handle = Entrez.efetch(db=\"nucleotide\", id=accession_number, rettype=\"gb\", retmode=\"text\")\n",
    "\n",
    "# para criar o ficheiro\n",
    "record = SeqIO.read(handle, 'gb')\n",
    "SeqIO.write(record, filename, 'gb')"
   ]
  },
  {
   "cell_type": "code",
   "execution_count": null,
   "metadata": {},
   "outputs": [],
   "source": []
  }
 ],
 "metadata": {
  "kernelspec": {
   "display_name": "Python 3",
   "language": "python",
   "name": "python3"
  },
  "language_info": {
   "codemirror_mode": {
    "name": "ipython",
    "version": 3
   },
   "file_extension": ".py",
   "mimetype": "text/x-python",
   "name": "python",
   "nbconvert_exporter": "python",
   "pygments_lexer": "ipython3",
   "version": "3.10.7 (tags/v3.10.7:6cc6b13, Sep  5 2022, 14:08:36) [MSC v.1933 64 bit (AMD64)]"
  },
  "orig_nbformat": 4,
  "vscode": {
   "interpreter": {
    "hash": "68244b10fadec1b3e625e9157df0e88cca746a2e21e581f39bebc9f0b519388c"
   }
  }
 },
 "nbformat": 4,
 "nbformat_minor": 2
}
