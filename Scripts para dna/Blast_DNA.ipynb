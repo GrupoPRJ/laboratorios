{
 "cells": [
  {
   "cell_type": "code",
   "execution_count": 2,
   "metadata": {},
   "outputs": [],
   "source": [
    "from Bio import SeqIO\n",
    "from Bio.Blast import NCBIWWW\n",
    "\n",
    "def blast_DNA(ficheiro, blast_file_xml):\n",
    "    #ficheiro --> ficheiro de entrada. Neste caso no formato genbank. Ex: 'TCF7L2.gb'\n",
    "    #blast_file_xml --> nome a atribuir ao ficheiro de saída com os resultados do blast realizado no ficheiro .gb. Irá sair com o formato .xml. Ex: TCF7L2_blastn.xml\n",
    "    \n",
    "    record = SeqIO.read(ficheiro, format='gb')\n",
    "    result_handle = NCBIWWW.qblast('blastn', 'nt', record.seq)   #nt --> nucleotide database\n",
    "    with open(blast_file_xml, \"w\") as out_handle:\n",
    "        out_handle.write(result_handle.read())\n",
    "    result_handle.close()\n",
    "\n",
    "#Irá criar um ficheiro .xml com os resultados do blastn. Pode demorar alguns minutos"
   ]
  },
  {
   "cell_type": "code",
   "execution_count": 3,
   "metadata": {},
   "outputs": [],
   "source": [
    "blast_DNA('TCF7L2.gb','TCF7L2_blastn.xml')"
   ]
  }
 ],
 "metadata": {
  "kernelspec": {
   "display_name": "Python 3",
   "language": "python",
   "name": "python3"
  },
  "language_info": {
   "codemirror_mode": {
    "name": "ipython",
    "version": 3
   },
   "file_extension": ".py",
   "mimetype": "text/x-python",
   "name": "python",
   "nbconvert_exporter": "python",
   "pygments_lexer": "ipython3",
   "version": "3.10.7"
  },
  "orig_nbformat": 4,
  "vscode": {
   "interpreter": {
    "hash": "68244b10fadec1b3e625e9157df0e88cca746a2e21e581f39bebc9f0b519388c"
   }
  }
 },
 "nbformat": 4,
 "nbformat_minor": 2
}
