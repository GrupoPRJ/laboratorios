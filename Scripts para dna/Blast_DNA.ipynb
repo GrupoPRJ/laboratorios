{
 "cells": [
  {
   "cell_type": "code",
   "execution_count": null,
   "metadata": {},
   "outputs": [],
   "source": [
    "from Bio import Entrez\n",
    "from Bio import SeqIO\n",
    "from Bio import SearchIO\n",
    "from Bio.Blast import NCBIXML\n",
    "from Bio.Blast import NCBIWWW\n",
    "\n",
    "def blast_DNA(genbank, blast_file):\n",
    "    '''\n",
    "    VARIAVEIS:\n",
    "        genbank = ficheiro genbank com a extensão ponto gb (ex: prot.gb)\n",
    "        blast_file = Nome do ficheiro a dar com o resultado do Blast ( ex: \"FGB_blast.xml\")\n",
    "    RETURNS:\n",
    "        Gera um ficheiro .xml com o resultado do blastn contra   a database dos nucleotidos .\n",
    "    '''\n",
    "    record = SeqIO.read(genbank, format='gb')\n",
    "    result_handle = NCBIWWW.qblast('blastn', 'nt', record.seq)\n",
    "    with open(blast_file, \"w\") as out_handle:\n",
    "        out_handle.write(result_handle.read())\n",
    "    result_handle.close()"
   ]
  }
 ],
 "metadata": {
  "kernelspec": {
   "display_name": "Python 3",
   "language": "python",
   "name": "python3"
  },
  "language_info": {
   "name": "python",
   "version": "3.10.7 (tags/v3.10.7:6cc6b13, Sep  5 2022, 14:08:36) [MSC v.1933 64 bit (AMD64)]"
  },
  "orig_nbformat": 4,
  "vscode": {
   "interpreter": {
    "hash": "68244b10fadec1b3e625e9157df0e88cca746a2e21e581f39bebc9f0b519388c"
   }
  }
 },
 "nbformat": 4,
 "nbformat_minor": 2
}
