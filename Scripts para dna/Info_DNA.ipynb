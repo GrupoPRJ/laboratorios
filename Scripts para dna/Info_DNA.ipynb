{
 "cells": [
  {
   "cell_type": "code",
   "execution_count": 1,
   "metadata": {},
   "outputs": [],
   "source": [
    "from Bio import Entrez\n",
    "from Bio import SeqIO\n",
    "from Bio import SearchIO\n",
    "from Bio.Blast import NCBIXML\n",
    "from Bio.Blast import NCBIWWW\n",
    "\n",
    "def DNA_inf(ficheiro):\n",
    "    '''\n",
    "    VARIAVEIS:\n",
    "        ficheiro = nome para ficheiro de extensão ponto gb (ex: prot.gb)\n",
    "        type - tipo de ficheiro a ser lido (EX. GENBANK)\n",
    "    RETURNS:\n",
    "        Imprime informações contidas no ficheiro\n",
    "    '''\n",
    "    record = SeqIO.read(ficheiro, 'genbank')\n",
    "    id = record.name\n",
    "    tam = len(record.seq)\n",
    "    seq = record.seq\n",
    "    source = record.annotations[\"source\"]\n",
    "    print(' ID:', id, '\\n', 'SEQUENCE LENGTH:', tam, 'bp', '\\n', 'SEQUENCE:', seq, '\\n', 'SOURCE:', source, '\\n', 'FEATURES:')\n",
    "    for i in record.features:\n",
    "        print(i)"
   ]
  }
 ],
 "metadata": {
  "kernelspec": {
   "display_name": "Python 3",
   "language": "python",
   "name": "python3"
  },
  "language_info": {
   "codemirror_mode": {
    "name": "ipython",
    "version": 3
   },
   "file_extension": ".py",
   "mimetype": "text/x-python",
   "name": "python",
   "nbconvert_exporter": "python",
   "pygments_lexer": "ipython3",
   "version": "3.10.7"
  },
  "orig_nbformat": 4,
  "vscode": {
   "interpreter": {
    "hash": "68244b10fadec1b3e625e9157df0e88cca746a2e21e581f39bebc9f0b519388c"
   }
  }
 },
 "nbformat": 4,
 "nbformat_minor": 2
}
