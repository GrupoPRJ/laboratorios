{
 "cells": [
  {
   "cell_type": "code",
   "execution_count": 24,
   "metadata": {},
   "outputs": [],
   "source": [
    "from Bio import Entrez\n",
    "\n",
    "database = input('database: ')\n",
    "query = input('query a procurar: ')\n",
    "res= int(input('resultados maximos: '))\n",
    "#email= input('email a inserir: ')\n"
   ]
  },
  {
   "cell_type": "code",
   "execution_count": 25,
   "metadata": {},
   "outputs": [
    {
     "name": "stdout",
     "output_type": "stream",
     "text": [
      "['36479247', '36454469', '36399471', '36382598', '36382190', '36369331', '36364957', '36360783', '36358989', '36344976']\n"
     ]
    }
   ],
   "source": [
    "\n",
    "Entrez.email= 'pg49846@alunos.uminho.pt'\n",
    "\n",
    "handle=Entrez.esearch(db = database, term=query, retmax= res)   #ESearch searches and retrieves primary IDs (for use in EFetch, ELink and ESummary). Returns a handle to the results which are always in XML format.\n",
    "record=Entrez.read(handle)   #This function parses an XML file created by NCBI’s Entrez Utilities, returning a multilevel data structure of Python lists and dictionaries\n",
    "handle.close()\n",
    "idlist= record['IdList']\n",
    "\n",
    "print(idlist)\n",
    "\n"
   ]
  },
  {
   "cell_type": "code",
   "execution_count": 26,
   "metadata": {},
   "outputs": [],
   "source": [
    "from Bio import Medline\n",
    "\n",
    "handle = Entrez.efetch(db=database, id=idlist, rettype=\"medline\", retmode=\"text\")   #EFetch retrieves records in the requested format\n",
    "records = Medline.parse(handle)  #Read Medline records one by one from the handle.\n",
    "\n",
    "# for i in records:\n",
    "#     print(i)\n",
    "#     print()\n",
    "\n",
    "\n"
   ]
  },
  {
   "cell_type": "code",
   "execution_count": 27,
   "metadata": {},
   "outputs": [
    {
     "name": "stdout",
     "output_type": "stream",
     "text": [
      "title: Genomic profiling and network-level understanding uncover the potential genes and the pathways in hepatocellular carcinoma.\n",
      "authors: ['El-Kafrawy SA', 'El-Daly MM', 'Bajrai LH', 'Alandijany TA', 'Faizo AA', 'Mobashir M', 'Ahmed SS', 'Ahmed S', 'Alam S', 'Jeet R', 'Kamal MA', 'Anwer ST', 'Khan B', 'Tashkandi M', 'Rizvi MA', 'Azhar EI']\n",
      "source: Front Genet. 2022 Nov 21;13:880440. doi: 10.3389/fgene.2022.880440. eCollection 2022.\n",
      "\n",
      "title: Genomic Editing and Diabetes.\n",
      "authors: ['Shah P']\n",
      "source: Adv Exp Med Biol. 2023;1396:207-214. doi: 10.1007/978-981-19-5642-3_14.\n",
      "\n",
      "title: Bioinformatic analysis and clinical diagnostic value of hsa_circ_0004099 in acute ischemic stroke.\n",
      "authors: ['Zheng J', 'Luo S', 'Long Y']\n",
      "source: PLoS One. 2022 Nov 18;17(11):e0277832. doi: 10.1371/journal.pone.0277832. eCollection 2022.\n",
      "\n",
      "title: Identification of odontogenic ameloblast associated as a novel target gene of the Wnt/beta-catenin signaling pathway.\n",
      "authors: ['Yamaguchi K', 'Horie C', 'Takane K', 'Ikenoue T', 'Nakagawa S', 'Isobe Y', 'Ota Y', 'Ushiku T', 'Tanaka M', 'Fujishiro J', 'Hoshino N', 'Arisue A', 'Nishizuka S', 'Aikou S', 'Shida D', 'Furukawa Y']\n",
      "source: Cancer Sci. 2022 Nov 16. doi: 10.1111/cas.15657.\n",
      "\n",
      "title: Advances in multi-omics study of biomarkers of glycolipid metabolism disorder.\n",
      "authors: ['Fang X', 'Miao R', 'Wei J', 'Wu H', 'Tian J']\n",
      "source: Comput Struct Biotechnol J. 2022 Oct 25;20:5935-5951. doi: 10.1016/j.csbj.2022.10.030. eCollection 2022.\n",
      "\n",
      "title: Association between TCF7L2 polymorphism and type 2 diabetes mellitus susceptibility: a case-control study among the Bangladeshi population.\n",
      "authors: ['Salauddin A', 'Chakma K', 'Hasan MM', 'Akter F', 'Chowdhury NA', 'Chowdhury SR', 'Mannan A']\n",
      "source: Mol Biol Rep. 2022 Nov 11. doi: 10.1007/s11033-022-08081-x.\n",
      "\n",
      "title: Indolepropionic Acid, a Gut Bacteria-Produced Tryptophan Metabolite and the Risk of Type 2 Diabetes and Non-Alcoholic Fatty Liver Disease.\n",
      "authors: ['Sehgal R', 'de Mello VD', 'Mannisto V', 'Lindstrom J', 'Tuomilehto J', 'Pihlajamaki J', 'Uusitupa M']\n",
      "source: Nutrients. 2022 Nov 6;14(21):4695. doi: 10.3390/nu14214695.\n",
      "\n",
      "title: Decoding Diabetes Biomarkers and Related Molecular Mechanisms by Using Machine Learning, Text Mining, and Gene Expression Analysis.\n",
      "authors: ['Elsherbini AM', 'Alsamman AM', 'Elsherbiny NM', 'El-Sherbiny M', 'Ahmed R', 'Ebrahim HA', 'Bakkach J']\n",
      "source: Int J Environ Res Public Health. 2022 Oct 26;19(21):13890. doi: 10.3390/ijerph192113890.\n",
      "\n",
      "title: FGF9 Promotes Expression of HAS2 in Palatal Elevation via the Wnt/beta-Catenin/TCF7L2 Pathway.\n",
      "authors: ['Sun Y', 'Ying X', 'Li R', 'Weng M', 'Shi J', 'Chen Z']\n",
      "source: Biomolecules. 2022 Nov 4;12(11):1639. doi: 10.3390/biom12111639.\n",
      "\n",
      "title: CHRNB2 represses pancreatic cancer migration and invasion via inhibiting beta-catenin pathway.\n",
      "authors: ['Qin C', 'Li T', 'Wang Y', 'Zhao B', 'Li Z', 'Li T', 'Yang X', 'Zhao Y', 'Wang W']\n",
      "source: Cancer Cell Int. 2022 Nov 7;22(1):340. doi: 10.1186/s12935-022-02768-8.\n",
      "\n"
     ]
    }
   ],
   "source": [
    "for record in records:\n",
    "    print(\"title:\", record.get(\"TI\", \"?\"))\n",
    "    # print('abstract:', record.get('AB', '?'))\n",
    "    print(\"authors:\", record.get(\"AU\", \"?\"))\n",
    "    print(\"source:\", record.get(\"SO\", \"?\"))\n",
    "    print(\"\")"
   ]
  }
 ],
 "metadata": {
  "kernelspec": {
   "display_name": "Python 3",
   "language": "python",
   "name": "python3"
  },
  "language_info": {
   "codemirror_mode": {
    "name": "ipython",
    "version": 3
   },
   "file_extension": ".py",
   "mimetype": "text/x-python",
   "name": "python",
   "nbconvert_exporter": "python",
   "pygments_lexer": "ipython3",
   "version": "3.10.7 (tags/v3.10.7:6cc6b13, Sep  5 2022, 14:08:36) [MSC v.1933 64 bit (AMD64)]"
  },
  "orig_nbformat": 4,
  "vscode": {
   "interpreter": {
    "hash": "68244b10fadec1b3e625e9157df0e88cca746a2e21e581f39bebc9f0b519388c"
   }
  }
 },
 "nbformat": 4,
 "nbformat_minor": 2
}
