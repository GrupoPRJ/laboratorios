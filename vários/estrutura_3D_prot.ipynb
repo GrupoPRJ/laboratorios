{
 "cells": [
  {
   "cell_type": "code",
   "execution_count": 7,
   "metadata": {},
   "outputs": [
    {
     "ename": "ModuleNotFoundError",
     "evalue": "No module named 'pymol'",
     "output_type": "error",
     "traceback": [
      "\u001b[1;31m---------------------------------------------------------------------------\u001b[0m",
      "\u001b[1;31mModuleNotFoundError\u001b[0m                       Traceback (most recent call last)",
      "Cell \u001b[1;32mIn[7], line 2\u001b[0m\n\u001b[0;32m      1\u001b[0m \u001b[39mfrom\u001b[39;00m \u001b[39mBio\u001b[39;00m\u001b[39m.\u001b[39;00m\u001b[39mPDB\u001b[39;00m \u001b[39mimport\u001b[39;00m \u001b[39m*\u001b[39m\n\u001b[1;32m----> 2\u001b[0m \u001b[39mimport\u001b[39;00m \u001b[39mpymol\u001b[39;00m\n\u001b[0;32m      4\u001b[0m \u001b[39mdef\u001b[39;00m \u001b[39mPDB\u001b[39m(ID):\n\u001b[0;32m      5\u001b[0m     \u001b[39m\"\"\"\"\u001b[39;00m\n\u001b[0;32m      6\u001b[0m \u001b[39m    ID: fornecer o ID da PDB\u001b[39;00m\n\u001b[0;32m      7\u001b[0m \u001b[39m    Return: A estrutura 3D da proteína\u001b[39;00m\n\u001b[0;32m      8\u001b[0m \u001b[39m    \"\"\"\u001b[39;00m\n",
      "\u001b[1;31mModuleNotFoundError\u001b[0m: No module named 'pymol'"
     ]
    }
   ],
   "source": [
    "from Bio.PDB import *\n",
    "import pymol\n",
    "\n",
    "def PDB(ID):\n",
    "    \"\"\"\"\n",
    "    ID: fornecer o ID da PDB\n",
    "    Return: A estrutura 3D da proteína\n",
    "    \"\"\"\n",
    "    pdbl = PDBList()\n",
    "    file = pdbl.retrieve_pdb_file(ID, pdir='.', file_format='pdb')\n",
    "    pymol.finish_launching()\n",
    "\n",
    "    pymol.cmd.load(file, ID)\n",
    "    pymol.cmd.disable(\"all\")\n",
    "    pymol.cmd.enable(ID)\n",
    "    pymol.cmd.orient()\n",
    "    pymol.cmd.zoom()\n",
    "    pymol.cmd.png(\"Protein.png\", 3000, 3000, dpi=500, ray=1)\n",
    "\n",
    "    pymol.cmd.quit()\n",
    "\n",
    "PDB('1JDH')"
   ]
  }
 ],
 "metadata": {
  "kernelspec": {
   "display_name": "Python 3",
   "language": "python",
   "name": "python3"
  },
  "language_info": {
   "codemirror_mode": {
    "name": "ipython",
    "version": 3
   },
   "file_extension": ".py",
   "mimetype": "text/x-python",
   "name": "python",
   "nbconvert_exporter": "python",
   "pygments_lexer": "ipython3",
   "version": "3.10.7"
  },
  "orig_nbformat": 4,
  "vscode": {
   "interpreter": {
    "hash": "68244b10fadec1b3e625e9157df0e88cca746a2e21e581f39bebc9f0b519388c"
   }
  }
 },
 "nbformat": 4,
 "nbformat_minor": 2
}
