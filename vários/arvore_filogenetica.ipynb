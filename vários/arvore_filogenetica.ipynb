{
 "cells": [
  {
   "cell_type": "code",
   "execution_count": null,
   "metadata": {},
   "outputs": [],
   "source": [
    "from Bio import Phylo\n",
    "\n",
    "import matplotlib.pyplot as plt\n",
    "\n",
    "filename = 'SEQS_HOMO_PROT.dnd'\n",
    "\n",
    "SMALL_SIZE = 5\n",
    "MEDIUM_SIZE = 5\n",
    "BIGGER_SIZE = 9\n",
    "\n",
    "plt.rc('font', size=SMALL_SIZE)          # controls default text sizes\n",
    "plt.rc('axes', titlesize=SMALL_SIZE)     # fontsize of the axes title\n",
    "plt.rc('axes', labelsize=MEDIUM_SIZE)    # fontsize of the x and y labels\n",
    "plt.rc('xtick', labelsize=SMALL_SIZE)    # fontsize of the tick labels\n",
    "plt.rc('ytick', labelsize=SMALL_SIZE)    # fontsize of the tick labels\n",
    "plt.rc('legend', fontsize=SMALL_SIZE)    # legend fontsize\n",
    "plt.rc('figure', titlesize=BIGGER_SIZE)\n",
    "\n",
    "alignment = open(filename)\n",
    "tree = Phylo.read(alignment, 'newick')\n",
    "tree.ladderize()\n",
    "Phylo.draw_ascii(tree)\n",
    "\n",
    "tree = tree.as_phyloxml()\n",
    "tree.ladderize() # Flip branches so deeper clades are displayed at top\n",
    "tree.root.color = \"blue\"\n",
    "Phylo.draw(tree)\n",
    "#Phylo.draw(tree, branch_labels=lambda c: c.branch_length)"
   ]
  }
 ],
 "metadata": {
  "kernelspec": {
   "display_name": "Python 3",
   "language": "python",
   "name": "python3"
  },
  "language_info": {
   "name": "python",
   "version": "3.10.7 (tags/v3.10.7:6cc6b13, Sep  5 2022, 14:08:36) [MSC v.1933 64 bit (AMD64)]"
  },
  "orig_nbformat": 4,
  "vscode": {
   "interpreter": {
    "hash": "68244b10fadec1b3e625e9157df0e88cca746a2e21e581f39bebc9f0b519388c"
   }
  }
 },
 "nbformat": 4,
 "nbformat_minor": 2
}
