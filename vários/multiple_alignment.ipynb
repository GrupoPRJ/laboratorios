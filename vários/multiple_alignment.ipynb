{
 "cells": [
  {
   "cell_type": "code",
   "execution_count": 1,
   "metadata": {},
   "outputs": [
    {
     "name": "stdout",
     "output_type": "stream",
     "text": [
      "\"C:\\Program Files (x86)\\ClustalW2\\clustalw2.exe\" -infile=\"C:\\Users\\Paulo Seixal\\Desktop\\Trabalho laboratorios\\notebooks\\Scripts para prots\\TCF7L2_blastprot.xml.fasta\"\n"
     ]
    }
   ],
   "source": [
    "from Bio.Align.Applications import ClustalwCommandline\n",
    "\n",
    "#necessária a instalção do software clustalw\n",
    "\n",
    "diretoria = r'\"C:\\Program Files (x86)\\ClustalW2\\clustalw2.exe\"'\n",
    "in_file = r'C:\\Users\\Paulo Seixal\\Desktop\\Trabalho laboratorios\\notebooks\\Scripts para prots\\TCF7L2_blastprot.xml.fasta'\n",
    "\n",
    "clustalw_cline = ClustalwCommandline(diretoria, infile=in_file)\n",
    "clustalw_cline()\n",
    "print(clustalw_cline)\n",
    "\n",
    "#devolve dois ficheiro em formato .dnd e .aln"
   ]
  }
 ],
 "metadata": {
  "kernelspec": {
   "display_name": "Python 3",
   "language": "python",
   "name": "python3"
  },
  "language_info": {
   "codemirror_mode": {
    "name": "ipython",
    "version": 3
   },
   "file_extension": ".py",
   "mimetype": "text/x-python",
   "name": "python",
   "nbconvert_exporter": "python",
   "pygments_lexer": "ipython3",
   "version": "3.10.7 (tags/v3.10.7:6cc6b13, Sep  5 2022, 14:08:36) [MSC v.1933 64 bit (AMD64)]"
  },
  "orig_nbformat": 4,
  "vscode": {
   "interpreter": {
    "hash": "68244b10fadec1b3e625e9157df0e88cca746a2e21e581f39bebc9f0b519388c"
   }
  }
 },
 "nbformat": 4,
 "nbformat_minor": 2
}
